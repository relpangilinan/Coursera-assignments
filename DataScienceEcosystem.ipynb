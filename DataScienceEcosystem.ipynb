{
 "cells": [
  {
   "cell_type": "markdown",
   "id": "420e27af-c908-48a6-bb56-b752ca098ba9",
   "metadata": {},
   "source": [
    "# Data Science Tools and Ecosystem"
   ]
  },
  {
   "cell_type": "markdown",
   "id": "ee9ba392-33ea-4a23-a03e-02db332fd21f",
   "metadata": {},
   "source": [
    "In this notebook, Data Science Tools and Ecosystem are summarized.\n"
   ]
  },
  {
   "cell_type": "markdown",
   "id": "dbd6da10-19e3-4811-bbe6-468c886b4598",
   "metadata": {},
   "source": [
    "Some of the popular languages that Data Scientists use are:\n",
    "1. Python\n",
    "2. SQL\n",
    "3. R "
   ]
  },
  {
   "cell_type": "markdown",
   "id": "f9b2b6f5-9cc1-45e6-83f8-4cba6cad0488",
   "metadata": {},
   "source": [
    "Some of the commonly used libraries used by Data Scientists include:\n",
    "1. Pandas\n",
    "2. Numpy\n",
    "3. Matplotlib\n",
    "\n"
   ]
  },
  {
   "cell_type": "markdown",
   "id": "d9dae506-27a9-4549-a349-412cb59bfce4",
   "metadata": {},
   "source": [
    "|Data Science Tools|\n",
    "|Apache Spark      |\n",
    "|IBM SPSS          |\n",
    "|Jupyter           |\n"
   ]
  },
  {
   "cell_type": "markdown",
   "id": "779b7670-1c4b-45a6-922b-32349b44d786",
   "metadata": {},
   "source": [
    "### Below are a few examples of evaluating arithmetic expressions in Python\n",
    "1. Using the bool() method#\n",
    "2. Directly using operators\n",
    "3. Using boolean operators (e.g., and, or, not)#\n",
    "   "
   ]
  },
  {
   "cell_type": "markdown",
   "id": "db65199f-20cd-44d4-b295-d104d8b1384e",
   "metadata": {},
   "source": [
    "This a simple arithmetic expression to mutiply then add integers\n",
    "\n"
   ]
  },
  {
   "cell_type": "code",
   "execution_count": 39,
   "id": "5233656d-d322-42f7-8a42-118767a939f3",
   "metadata": {},
   "outputs": [
    {
     "data": {
      "text/plain": [
       "17"
      ]
     },
     "execution_count": 39,
     "metadata": {},
     "output_type": "execute_result"
    }
   ],
   "source": [
    "(3*4)+5"
   ]
  },
  {
   "cell_type": "markdown",
   "id": "c9b9e916-6db1-44db-a44e-deee790d87ce",
   "metadata": {},
   "source": [
    "This will convert 200 minutes to hours by diving by 60"
   ]
  },
  {
   "cell_type": "code",
   "execution_count": 47,
   "id": "c4382f3f-7793-4b4b-8d51-3d9eb67b1577",
   "metadata": {},
   "outputs": [
    {
     "data": {
      "text/plain": [
       "3.3333333333333335"
      ]
     },
     "execution_count": 47,
     "metadata": {},
     "output_type": "execute_result"
    }
   ],
   "source": [
    "minutes = 200\n",
    "hours = 60\n",
    "minutes/hours\n",
    "\n"
   ]
  },
  {
   "cell_type": "markdown",
   "id": "baa30b63-64cd-4d0b-ba78-99798c17d4f6",
   "metadata": {},
   "source": [
    "Objectives:\n",
    "- Explore popular languages for Data science\n",
    "- Understand key concepts of machine learning and its application\n",
    "- Learn how to manipulate and analyze data using pandas\n",
    "- gain insights into data visualization technique using matplotlib and seaborn\n",
    "- get hands-on experience with Jupyter notebooks for data analysis"
   ]
  },
  {
   "cell_type": "markdown",
   "id": "f9a5d07d-c93c-45a9-8c43-df68bec9e6aa",
   "metadata": {},
   "source": [
    "Some of the popular languages that data scientist use are:\n",
    "- Python\n",
    "- R\n",
    "- SQL\n",
    "- Java"
   ]
  },
  {
   "cell_type": "markdown",
   "id": "143f06de-c46b-4547-83b1-c4f1b5348dd0",
   "metadata": {},
   "source": [
    "## Author\n",
    "Relly Pangilinan"
   ]
  },
  {
   "cell_type": "code",
   "execution_count": null,
   "id": "fcac19a6-f8f2-4c0e-b1b9-2306a59646a7",
   "metadata": {},
   "outputs": [],
   "source": []
  }
 ],
 "metadata": {
  "kernelspec": {
   "display_name": "Python 3 (ipykernel)",
   "language": "python",
   "name": "python3"
  },
  "language_info": {
   "codemirror_mode": {
    "name": "ipython",
    "version": 3
   },
   "file_extension": ".py",
   "mimetype": "text/x-python",
   "name": "python",
   "nbconvert_exporter": "python",
   "pygments_lexer": "ipython3",
   "version": "3.12.4"
  }
 },
 "nbformat": 4,
 "nbformat_minor": 5
}
